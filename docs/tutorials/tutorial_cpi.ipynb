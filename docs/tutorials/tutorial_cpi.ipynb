{
 "cells": [
  {
   "attachments": {},
   "cell_type": "markdown",
   "metadata": {},
   "source": [
    "Passo 1: Atualize o arquivo \"cpi.py\" localizado no diretório _fico_ modificando a linha 31,  alterando o caminho do repositório Solr na variável slrb:"
   ]
  },
  {
   "cell_type": "code",
   "execution_count": null,
   "metadata": {},
   "outputs": [],
   "source": [
    "# Caminho para o diretório bin do Solr\n",
    "slrb = Path(\"C:\\local\\\\solr\\\\bin\\\\\")"
   ]
  },
  {
   "attachments": {},
   "cell_type": "markdown",
   "metadata": {},
   "source": [
    "Passo 2: Carregue os módulos cpi e cpi helpers, ambos estão disponíveis no diretório fico"
   ]
  },
  {
   "cell_type": "code",
   "execution_count": 9,
   "metadata": {},
   "outputs": [],
   "source": [
    "import cpi\n",
    "import cpi_helpers as cpih"
   ]
  },
  {
   "attachments": {},
   "cell_type": "markdown",
   "metadata": {},
   "source": [
    "Passo 3: Antes de executar o pipeline pela primeira vez, é necessário criar uma \"coleção\", uma espécie de biblioteca a qual armazenará os metadados"
   ]
  },
  {
   "cell_type": "code",
   "execution_count": 8,
   "metadata": {},
   "outputs": [
    {
     "name": "stdout",
     "output_type": "stream",
     "text": [
      "Verificando o status do Solr...\n",
      "Iniciando o Solr...\n",
      "Solr iniciado com sucesso.\n"
     ]
    },
    {
     "data": {
      "text/plain": [
       "(0, 'Solr iniciado com sucesso.')"
      ]
     },
     "execution_count": 8,
     "metadata": {},
     "output_type": "execute_result"
    }
   ],
   "source": [
    "# Inicializar o serviço Solr caso esteja inativo\n",
    "cpi.check_and_start_solr()"
   ]
  },
  {
   "cell_type": "code",
   "execution_count": 10,
   "metadata": {},
   "outputs": [
    {
     "name": "stdout",
     "output_type": "stream",
     "text": [
      "Esquema atualizado com sucesso.\n"
     ]
    }
   ],
   "source": [
    "# Criar a coleção com o nome \"tutorial_econom\"\n",
    "cpih.create_solr_collection(\"tutorial_eco\")"
   ]
  },
  {
   "attachments": {},
   "cell_type": "markdown",
   "metadata": {},
   "source": [
    "Passo 4: Uma vez que já tem a coleção, basta executar o pipeline, informando o nome da empresa e o ano de publicação daquele relatório"
   ]
  },
  {
   "cell_type": "code",
   "execution_count": 10,
   "metadata": {},
   "outputs": [
    {
     "name": "stdout",
     "output_type": "stream",
     "text": [
      "Diretório raiz para armazenamento dos documentos: C:\\Users\\thgcn\\OneDrive\\Academico\\teste documentação\n",
      "Inicio do pipeline de captura *********\n",
      "Empresa encontrada: MAGAZINE LUIZA SA | codigo cvm: 22470\n",
      "Ano: 2023\n",
      "nome do arquivo: 22470_magazine_luiza_sa\n",
      "caminho dos arquivos: C:\\Users\\thgcn\\OneDrive\\Academico\\teste documentação\\22470_magazine_luiza_sa\n"
     ]
    },
    {
     "name": "stderr",
     "output_type": "stream",
     "text": [
      "c:\\Users\\thgcn\\OneDrive\\Academico\\teste documentação\\po_245_2023_T4\\.venv\\Lib\\site-packages\\urllib3\\connectionpool.py:1095: InsecureRequestWarning: Unverified HTTPS request is being made to host 'www.rad.cvm.gov.br'. Adding certificate verification is strongly advised. See: https://urllib3.readthedocs.io/en/latest/advanced-usage.html#tls-warnings\n",
      "  warnings.warn(\n"
     ]
    },
    {
     "name": "stdout",
     "output_type": "stream",
     "text": [
      "Download finalizado. Arquivo salvo em: C:\\Users\\thgcn\\OneDrive\\Academico\\teste documentação\\22470_magazine_luiza_sa\\2023\\demonstracoes_financeiras_anuais_completas\\2470_MAGAZINE LUIZA SA__2023-03-10.pdf\n",
      "Empresa encontrada: MAGAZINE LUIZA SA | codigo cvm: 22470\n",
      "Ano: 2023\n",
      "nome do arquivo: 22470_magazine_luiza_sa\n",
      "caminho dos arquivos: C:\\Users\\thgcn\\OneDrive\\Academico\\teste documentação\\22470_magazine_luiza_sa\n"
     ]
    },
    {
     "name": "stderr",
     "output_type": "stream",
     "text": [
      "c:\\Users\\thgcn\\OneDrive\\Academico\\teste documentação\\po_245_2023_T4\\.venv\\Lib\\site-packages\\urllib3\\connectionpool.py:1095: InsecureRequestWarning: Unverified HTTPS request is being made to host 'www.rad.cvm.gov.br'. Adding certificate verification is strongly advised. See: https://urllib3.readthedocs.io/en/latest/advanced-usage.html#tls-warnings\n",
      "  warnings.warn(\n"
     ]
    },
    {
     "name": "stdout",
     "output_type": "stream",
     "text": [
      "Download finalizado. Arquivo salvo em: C:\\Users\\thgcn\\OneDrive\\Academico\\teste documentação\\22470_magazine_luiza_sa\\2023\\demonstracoes_financeiras_em_padroes_internacionais\\2470_MAGAZINE LUIZA SA_ersão em inglês_2023-03-21.pdf\n",
      "Empresa encontrada: MAGAZINE LUIZA SA | codigo cvm: 22470\n",
      "Ano: 2023\n",
      "nome do arquivo: 22470_magazine_luiza_sa\n",
      "caminho dos arquivos: C:\\Users\\thgcn\\OneDrive\\Academico\\teste documentação\\22470_magazine_luiza_sa\n"
     ]
    },
    {
     "name": "stderr",
     "output_type": "stream",
     "text": [
      "c:\\Users\\thgcn\\OneDrive\\Academico\\teste documentação\\po_245_2023_T4\\.venv\\Lib\\site-packages\\urllib3\\connectionpool.py:1095: InsecureRequestWarning: Unverified HTTPS request is being made to host 'www.rad.cvm.gov.br'. Adding certificate verification is strongly advised. See: https://urllib3.readthedocs.io/en/latest/advanced-usage.html#tls-warnings\n",
      "  warnings.warn(\n"
     ]
    },
    {
     "name": "stdout",
     "output_type": "stream",
     "text": [
      "Download finalizado. Arquivo salvo em: C:\\Users\\thgcn\\OneDrive\\Academico\\teste documentação\\22470_magazine_luiza_sa\\2023\\demonstracoes_financeiras_em_padroes_internacionais\\2470_MAGAZINE LUIZA SA_ersão em inglês_2023-06-01.pdf\n",
      "Empresa encontrada: MAGAZINE LUIZA SA | codigo cvm: 22470\n",
      "Ano: 2023\n",
      "nome do arquivo: 22470_magazine_luiza_sa\n",
      "caminho dos arquivos: C:\\Users\\thgcn\\OneDrive\\Academico\\teste documentação\\22470_magazine_luiza_sa\n"
     ]
    },
    {
     "name": "stderr",
     "output_type": "stream",
     "text": [
      "c:\\Users\\thgcn\\OneDrive\\Academico\\teste documentação\\po_245_2023_T4\\.venv\\Lib\\site-packages\\urllib3\\connectionpool.py:1095: InsecureRequestWarning: Unverified HTTPS request is being made to host 'www.rad.cvm.gov.br'. Adding certificate verification is strongly advised. See: https://urllib3.readthedocs.io/en/latest/advanced-usage.html#tls-warnings\n",
      "  warnings.warn(\n"
     ]
    },
    {
     "name": "stdout",
     "output_type": "stream",
     "text": [
      "Download finalizado. Arquivo salvo em: C:\\Users\\thgcn\\OneDrive\\Academico\\teste documentação\\22470_magazine_luiza_sa\\2023\\demonstracoes_financeiras_intermediarias\\2470_MAGAZINE LUIZA SA_emonstração Financeira Intermediária_2023-05-15.pdf\n",
      "Empresa encontrada: MAGAZINE LUIZA SA | codigo cvm: 22470\n",
      "Ano: 2023\n",
      "nome do arquivo: 22470_magazine_luiza_sa\n",
      "caminho dos arquivos: C:\\Users\\thgcn\\OneDrive\\Academico\\teste documentação\\22470_magazine_luiza_sa\n"
     ]
    },
    {
     "name": "stderr",
     "output_type": "stream",
     "text": [
      "c:\\Users\\thgcn\\OneDrive\\Academico\\teste documentação\\po_245_2023_T4\\.venv\\Lib\\site-packages\\urllib3\\connectionpool.py:1095: InsecureRequestWarning: Unverified HTTPS request is being made to host 'www.rad.cvm.gov.br'. Adding certificate verification is strongly advised. See: https://urllib3.readthedocs.io/en/latest/advanced-usage.html#tls-warnings\n",
      "  warnings.warn(\n"
     ]
    },
    {
     "name": "stdout",
     "output_type": "stream",
     "text": [
      "Download finalizado. Arquivo salvo em: C:\\Users\\thgcn\\OneDrive\\Academico\\teste documentação\\22470_magazine_luiza_sa\\2023\\press-release\\2470_MAGAZINE LUIZA SA_elease Resultados 4T22 Português_2023-03-10.pdf\n",
      "Empresa encontrada: MAGAZINE LUIZA SA | codigo cvm: 22470\n",
      "Ano: 2023\n",
      "nome do arquivo: 22470_magazine_luiza_sa\n",
      "caminho dos arquivos: C:\\Users\\thgcn\\OneDrive\\Academico\\teste documentação\\22470_magazine_luiza_sa\n"
     ]
    },
    {
     "name": "stderr",
     "output_type": "stream",
     "text": [
      "c:\\Users\\thgcn\\OneDrive\\Academico\\teste documentação\\po_245_2023_T4\\.venv\\Lib\\site-packages\\urllib3\\connectionpool.py:1095: InsecureRequestWarning: Unverified HTTPS request is being made to host 'www.rad.cvm.gov.br'. Adding certificate verification is strongly advised. See: https://urllib3.readthedocs.io/en/latest/advanced-usage.html#tls-warnings\n",
      "  warnings.warn(\n"
     ]
    },
    {
     "name": "stdout",
     "output_type": "stream",
     "text": [
      "Download finalizado. Arquivo salvo em: C:\\Users\\thgcn\\OneDrive\\Academico\\teste documentação\\22470_magazine_luiza_sa\\2023\\press-release\\2470_MAGAZINE LUIZA SA_elease Resultados 4Q22 Inglês_2023-03-10.pdf\n",
      "Empresa encontrada: MAGAZINE LUIZA SA | codigo cvm: 22470\n",
      "Ano: 2023\n",
      "nome do arquivo: 22470_magazine_luiza_sa\n",
      "caminho dos arquivos: C:\\Users\\thgcn\\OneDrive\\Academico\\teste documentação\\22470_magazine_luiza_sa\n"
     ]
    },
    {
     "name": "stderr",
     "output_type": "stream",
     "text": [
      "c:\\Users\\thgcn\\OneDrive\\Academico\\teste documentação\\po_245_2023_T4\\.venv\\Lib\\site-packages\\urllib3\\connectionpool.py:1095: InsecureRequestWarning: Unverified HTTPS request is being made to host 'www.rad.cvm.gov.br'. Adding certificate verification is strongly advised. See: https://urllib3.readthedocs.io/en/latest/advanced-usage.html#tls-warnings\n",
      "  warnings.warn(\n"
     ]
    },
    {
     "name": "stdout",
     "output_type": "stream",
     "text": [
      "Download finalizado. Arquivo salvo em: C:\\Users\\thgcn\\OneDrive\\Academico\\teste documentação\\22470_magazine_luiza_sa\\2023\\press-release\\2470_MAGAZINE LUIZA SA_elatório da Administração 2022_2023-03-10.pdf\n",
      "Empresa encontrada: MAGAZINE LUIZA SA | codigo cvm: 22470\n",
      "Ano: 2023\n",
      "nome do arquivo: 22470_magazine_luiza_sa\n",
      "caminho dos arquivos: C:\\Users\\thgcn\\OneDrive\\Academico\\teste documentação\\22470_magazine_luiza_sa\n"
     ]
    },
    {
     "name": "stderr",
     "output_type": "stream",
     "text": [
      "c:\\Users\\thgcn\\OneDrive\\Academico\\teste documentação\\po_245_2023_T4\\.venv\\Lib\\site-packages\\urllib3\\connectionpool.py:1095: InsecureRequestWarning: Unverified HTTPS request is being made to host 'www.rad.cvm.gov.br'. Adding certificate verification is strongly advised. See: https://urllib3.readthedocs.io/en/latest/advanced-usage.html#tls-warnings\n",
      "  warnings.warn(\n"
     ]
    },
    {
     "name": "stdout",
     "output_type": "stream",
     "text": [
      "Download finalizado. Arquivo salvo em: C:\\Users\\thgcn\\OneDrive\\Academico\\teste documentação\\22470_magazine_luiza_sa\\2023\\press-release\\2470_MAGAZINE LUIZA SA_elease de Resultados 1T23 - Português_2023-05-15.pdf\n",
      "Empresa encontrada: MAGAZINE LUIZA SA | codigo cvm: 22470\n",
      "Ano: 2023\n",
      "nome do arquivo: 22470_magazine_luiza_sa\n",
      "caminho dos arquivos: C:\\Users\\thgcn\\OneDrive\\Academico\\teste documentação\\22470_magazine_luiza_sa\n"
     ]
    },
    {
     "name": "stderr",
     "output_type": "stream",
     "text": [
      "c:\\Users\\thgcn\\OneDrive\\Academico\\teste documentação\\po_245_2023_T4\\.venv\\Lib\\site-packages\\urllib3\\connectionpool.py:1095: InsecureRequestWarning: Unverified HTTPS request is being made to host 'www.rad.cvm.gov.br'. Adding certificate verification is strongly advised. See: https://urllib3.readthedocs.io/en/latest/advanced-usage.html#tls-warnings\n",
      "  warnings.warn(\n"
     ]
    },
    {
     "name": "stdout",
     "output_type": "stream",
     "text": [
      "Download finalizado. Arquivo salvo em: C:\\Users\\thgcn\\OneDrive\\Academico\\teste documentação\\22470_magazine_luiza_sa\\2023\\press-release\\2470_MAGAZINE LUIZA SA_elease de Resultados 1T23 - Inglês_2023-05-15.pdf\n",
      "Empresa encontrada: MAGAZINE LUIZA SA | codigo cvm: 22470\n",
      "Ano: 2023\n",
      "nome do arquivo: 22470_magazine_luiza_sa\n",
      "caminho dos arquivos: C:\\Users\\thgcn\\OneDrive\\Academico\\teste documentação\\22470_magazine_luiza_sa\n"
     ]
    },
    {
     "name": "stderr",
     "output_type": "stream",
     "text": [
      "c:\\Users\\thgcn\\OneDrive\\Academico\\teste documentação\\po_245_2023_T4\\.venv\\Lib\\site-packages\\urllib3\\connectionpool.py:1095: InsecureRequestWarning: Unverified HTTPS request is being made to host 'www.rad.cvm.gov.br'. Adding certificate verification is strongly advised. See: https://urllib3.readthedocs.io/en/latest/advanced-usage.html#tls-warnings\n",
      "  warnings.warn(\n"
     ]
    },
    {
     "name": "stdout",
     "output_type": "stream",
     "text": [
      "Download finalizado. Arquivo salvo em: C:\\Users\\thgcn\\OneDrive\\Academico\\teste documentação\\22470_magazine_luiza_sa\\2023\\relatorio_de_agente_fiduciario\\2470_MAGAZINE LUIZA SA_ª emissão NP_2023-04-28.pdf\n",
      "Empresa encontrada: MAGAZINE LUIZA SA | codigo cvm: 22470\n",
      "Ano: 2023\n",
      "nome do arquivo: 22470_magazine_luiza_sa\n",
      "caminho dos arquivos: C:\\Users\\thgcn\\OneDrive\\Academico\\teste documentação\\22470_magazine_luiza_sa\n"
     ]
    },
    {
     "name": "stderr",
     "output_type": "stream",
     "text": [
      "c:\\Users\\thgcn\\OneDrive\\Academico\\teste documentação\\po_245_2023_T4\\.venv\\Lib\\site-packages\\urllib3\\connectionpool.py:1095: InsecureRequestWarning: Unverified HTTPS request is being made to host 'www.rad.cvm.gov.br'. Adding certificate verification is strongly advised. See: https://urllib3.readthedocs.io/en/latest/advanced-usage.html#tls-warnings\n",
      "  warnings.warn(\n"
     ]
    },
    {
     "name": "stdout",
     "output_type": "stream",
     "text": [
      "Download finalizado. Arquivo salvo em: C:\\Users\\thgcn\\OneDrive\\Academico\\teste documentação\\22470_magazine_luiza_sa\\2023\\relatorio_de_agente_fiduciario\\2470_MAGAZINE LUIZA SA_ª emissão Debênture_2023-04-28.pdf\n",
      "Empresa encontrada: MAGAZINE LUIZA SA | codigo cvm: 22470\n",
      "Ano: 2023\n",
      "nome do arquivo: 22470_magazine_luiza_sa\n",
      "caminho dos arquivos: C:\\Users\\thgcn\\OneDrive\\Academico\\teste documentação\\22470_magazine_luiza_sa\n"
     ]
    },
    {
     "name": "stderr",
     "output_type": "stream",
     "text": [
      "c:\\Users\\thgcn\\OneDrive\\Academico\\teste documentação\\po_245_2023_T4\\.venv\\Lib\\site-packages\\urllib3\\connectionpool.py:1095: InsecureRequestWarning: Unverified HTTPS request is being made to host 'www.rad.cvm.gov.br'. Adding certificate verification is strongly advised. See: https://urllib3.readthedocs.io/en/latest/advanced-usage.html#tls-warnings\n",
      "  warnings.warn(\n"
     ]
    },
    {
     "name": "stdout",
     "output_type": "stream",
     "text": [
      "Download finalizado. Arquivo salvo em: C:\\Users\\thgcn\\OneDrive\\Academico\\teste documentação\\22470_magazine_luiza_sa\\2023\\relatorio_de_agente_fiduciario\\2470_MAGAZINE LUIZA SA_0ª emissão Debênture_2023-04-28.pdf\n",
      "Inicio do pipeline de preprocessamento e indexacao *********\n",
      "Verificando o status do Solr...\n",
      "Solr já está em execução.\n",
      "Documento adicionado com sucesso!\n",
      "Documento adicionado com sucesso!\n",
      "Documento adicionado com sucesso!\n",
      "Documento adicionado com sucesso!\n",
      "Documento adicionado com sucesso!\n",
      "Documento adicionado com sucesso!\n",
      "Documento adicionado com sucesso!\n",
      "Documento adicionado com sucesso!\n",
      "Documento adicionado com sucesso!\n",
      "Documento adicionado com sucesso!\n",
      "Documento adicionado com sucesso!\n",
      "Documento adicionado com sucesso!\n"
     ]
    }
   ],
   "source": [
    "# Ao exercutar o pipeline será pedido que informe o diretório de armazenamento dos arquivos.\n",
    "cpi.pipeline(\"magazine luiza\", 2023)"
   ]
  }
 ],
 "metadata": {
  "kernelspec": {
   "display_name": ".venv",
   "language": "python",
   "name": "python3"
  },
  "language_info": {
   "codemirror_mode": {
    "name": "ipython",
    "version": 3
   },
   "file_extension": ".py",
   "mimetype": "text/x-python",
   "name": "python",
   "nbconvert_exporter": "python",
   "pygments_lexer": "ipython3",
   "version": "3.11.4"
  },
  "orig_nbformat": 4
 },
 "nbformat": 4,
 "nbformat_minor": 2
}
